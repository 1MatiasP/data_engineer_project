{
 "cells": [
  {
   "cell_type": "code",
   "execution_count": 1,
   "id": "57378d61-3189-479d-b72b-7824c7537cf5",
   "metadata": {},
   "outputs": [],
   "source": [
    "# Importamos librerías necesarias\n",
    "\n",
    "import requests\n",
    "import pandas as pd\n",
    "import psycopg2\n",
    "from datetime import datetime"
   ]
  },
  {
   "cell_type": "code",
   "execution_count": 2,
   "id": "a7cd0332-39cd-48a0-b028-1ab8aca97085",
   "metadata": {},
   "outputs": [],
   "source": [
    "# URL base de la API de CoinCap\n",
    "base_url = \"https://api.coincap.io/v2\"\n"
   ]
  },
  {
   "cell_type": "code",
   "execution_count": 3,
   "id": "a8fdf0bc-0290-4703-b0a5-c209167e07bd",
   "metadata": {},
   "outputs": [],
   "source": [
    "# Endpoint para obtener datos de activos\n",
    "endpoint = \"/assets\""
   ]
  },
  {
   "cell_type": "code",
   "execution_count": 4,
   "id": "e5d6dd81-9874-40e1-b8a8-99d2213ec086",
   "metadata": {},
   "outputs": [],
   "source": [
    "# Encabezados de la solicitud con la clave API\n",
    "headers = {\n",
    "    \"Accept-Encoding\": \"gzip, deflate\"}"
   ]
  },
  {
   "cell_type": "code",
   "execution_count": 5,
   "id": "ebf89d1a-935d-4b8a-a48a-1bc87d1c48aa",
   "metadata": {},
   "outputs": [],
   "source": [
    "# URL completa para la solicitud\n",
    "url = base_url + endpoint"
   ]
  },
  {
   "cell_type": "code",
   "execution_count": 6,
   "id": "b4d85bdf-5e62-4884-a8da-6231b0f4af62",
   "metadata": {},
   "outputs": [],
   "source": [
    "# Realizar la solicitud GET a la API\n",
    "response = requests.get(url, headers=headers)"
   ]
  },
  {
   "cell_type": "code",
   "execution_count": 7,
   "id": "df4c3f4e-d255-4dd0-9ca7-abd6acf4cee1",
   "metadata": {},
   "outputs": [
    {
     "name": "stdout",
     "output_type": "stream",
     "text": [
      "{'id': 'bitcoin', 'rank': '1', 'symbol': 'BTC', 'name': 'Bitcoin', 'supply': '19685243.0000000000000000', 'maxSupply': '21000000.0000000000000000', 'marketCapUsd': '1189837300157.3691837089125540', 'volumeUsd24Hr': '11217139525.2286809388781974', 'priceUsd': '60443.1096002914052780', 'changePercent24Hr': '-2.6082328009656209', 'vwap24Hr': '63103.4281638439132020', 'explorer': 'https://blockchain.info/'}\n",
      "{'id': 'ethereum', 'rank': '2', 'symbol': 'ETH', 'name': 'Ethereum', 'supply': '120071733.9252206000000000', 'maxSupply': None, 'marketCapUsd': '354207113978.1147398639114714', 'volumeUsd24Hr': '6223324803.0007848095851188', 'priceUsd': '2949.9625132315584501', 'changePercent24Hr': '-2.6045143096992918', 'vwap24Hr': '3063.5653245051833818', 'explorer': 'https://etherscan.io/'}\n",
      "{'id': 'tether', 'rank': '3', 'symbol': 'USDT', 'name': 'Tether', 'supply': '108732462510.7544700000000000', 'maxSupply': None, 'marketCapUsd': '108901291006.0586521444639877', 'volumeUsd24Hr': '22366702473.7427305118974532', 'priceUsd': '1.0015526963282698', 'changePercent24Hr': '0.0425996655050704', 'vwap24Hr': '1.0010149785641852', 'explorer': 'https://www.omniexplorer.info/asset/31'}\n",
      "{'id': 'binance-coin', 'rank': '4', 'symbol': 'BNB', 'name': 'BNB', 'supply': '166801148.0000000000000000', 'maxSupply': '166801148.0000000000000000', 'marketCapUsd': '86957807522.8059890080470576', 'volumeUsd24Hr': '560044903.2037886138867631', 'priceUsd': '521.3261932873866612', 'changePercent24Hr': '-1.1367368410468888', 'vwap24Hr': '537.9802524123700615', 'explorer': 'https://etherscan.io/token/0xB8c77482e45F1F44dE1745F52C74426C631bDD52'}\n",
      "{'id': 'solana', 'rank': '5', 'symbol': 'SOL', 'name': 'Solana', 'supply': '446708850.8686387000000000', 'maxSupply': None, 'marketCapUsd': '57530154722.8092168388407203', 'volumeUsd24Hr': '1657402505.3845136132217524', 'priceUsd': '128.7866909530449487', 'changePercent24Hr': '-0.5551339973190083', 'vwap24Hr': '135.4809080939909859', 'explorer': 'https://explorer.solana.com/'}\n"
     ]
    }
   ],
   "source": [
    "# Verificar el código de estado de la respuesta\n",
    "if response.status_code == 200:\n",
    "    # La solicitud fue exitosa\n",
    "    data = response.json()\n",
    "    # Imprimir los datos de los activos (solo imprime los primeros 5 en este ejemplo)\n",
    "    for asset in data['data'][:5]:\n",
    "        print(asset)\n",
    "else:\n",
    "    # La solicitud falló\n",
    "    print(\"Error al realizar la solicitud:\", response.status_code)\n"
   ]
  },
  {
   "cell_type": "code",
   "execution_count": 8,
   "id": "7ff466ed-0d06-47a2-bc46-23a9a91ae237",
   "metadata": {},
   "outputs": [],
   "source": [
    "# Convertir el JSON a un DataFrame de pandas\n",
    "df = pd.DataFrame(data['data'])"
   ]
  },
  {
   "cell_type": "code",
   "execution_count": 9,
   "id": "5b798bbb-5f2a-4ff7-9192-2639868f9b44",
   "metadata": {},
   "outputs": [],
   "source": [
    "#Agregamos columna fecha de consulta\n",
    "fecha_consulta = datetime.now().timestamp()\n",
    "df['fecha_consulta'] = pd.to_datetime(fecha_consulta, unit='s')"
   ]
  },
  {
   "cell_type": "code",
   "execution_count": 10,
   "id": "8dd47663-0878-4c6d-97d5-996f9f157679",
   "metadata": {},
   "outputs": [],
   "source": [
    "# Eliminar columnas innecesarias\n",
    "df.drop(['id'], axis=1, inplace=True)"
   ]
  },
  {
   "cell_type": "code",
   "execution_count": 11,
   "id": "b9689dab-af0f-400e-a129-1c40a39c9b75",
   "metadata": {},
   "outputs": [],
   "source": [
    "# Elegimos la columna symbol como ID. Reordenamos y renombramos\n",
    "symbol_column = df.pop('symbol')  \n",
    "df.insert(0, 'id', symbol_column)"
   ]
  },
  {
   "cell_type": "code",
   "execution_count": 12,
   "id": "bef89446-200b-454d-9144-16cc67e8470d",
   "metadata": {},
   "outputs": [
    {
     "name": "stdout",
     "output_type": "stream",
     "text": [
      "Conectado a Redshift con éxito!\n"
     ]
    }
   ],
   "source": [
    "# Creamos la conexión a Redsshift\n",
    "url=\"data-engineer-cluster.cyhh5bfevlmn.us-east-1.redshift.amazonaws.com\"\n",
    "data_base=\"data-engineer-database\"\n",
    "user=\"matiaspereyra_coderhouse\"\n",
    "with open(\"C:/Users/machi/Desktop/Cursos/Data Engineer/Coder/pwdredshift.txt\",'r') as f:\n",
    "    pwd= f.read()\n",
    "try:\n",
    "    conn = psycopg2.connect(\n",
    "        host='data-engineer-cluster.cyhh5bfevlmn.us-east-1.redshift.amazonaws.com',\n",
    "        dbname=data_base,\n",
    "        user=user,\n",
    "        password=pwd,\n",
    "        port='5439'\n",
    "    )\n",
    "    print(\"Conectado a Redshift con éxito!\")\n",
    "    \n",
    "except Exception as e:\n",
    "    print(\"No es posible conectar a Redshift\")\n",
    "    print(e)"
   ]
  },
  {
   "cell_type": "code",
   "execution_count": 13,
   "id": "3820d077-8261-4652-b214-89980c60651e",
   "metadata": {},
   "outputs": [],
   "source": [
    "#Crear cursor\n",
    "cursor = conn.cursor()"
   ]
  },
  {
   "cell_type": "code",
   "execution_count": 14,
   "id": "06bfbf13-1aed-4a43-9054-199e11ec9e74",
   "metadata": {},
   "outputs": [],
   "source": [
    "#Crear la tabla\n",
    "with conn.cursor() as cur:\n",
    "    cur.execute(\"\"\"\n",
    "        CREATE TABLE IF NOT EXISTS matiaspereyra_coderhouse.crypto\n",
    "        (\n",
    "\t    id VARCHAR(50) primary key  \n",
    "\t    ,rank INTEGER\n",
    "\t    ,name VARCHAR(255)  \n",
    "\t    ,supply DECIMAL\n",
    "\t    ,maxSupply DECIMAL\n",
    "\t    ,marketCapUsd DECIMAL\n",
    "\t    ,volumeUsd24Hr DECIMAL  \n",
    "\t    ,priceUsd DECIMAL \n",
    "\t    ,changePercent24Hr DECIMAL  \n",
    "\t    ,vwap24Hr DECIMAL\n",
    "\t    ,explorer VARCHAR(255)\n",
    "\t    ,fecha_consulta TIMESTAMP\n",
    "\t    ,fecha_insercion TIMESTAMP\n",
    "\t    )\n",
    "    \"\"\")\n",
    "    conn.commit()"
   ]
  },
  {
   "cell_type": "code",
   "execution_count": 15,
   "id": "e0141a45-11ee-444b-977a-8221421fe753",
   "metadata": {},
   "outputs": [],
   "source": [
    "# Eliminar los registros existentes\n",
    "cursor.execute(\"DELETE FROM crypto\")\n",
    "conn.commit()"
   ]
  },
  {
   "cell_type": "code",
   "execution_count": 16,
   "id": "d1ebcb0a-0d02-4241-a38b-1a915c117e12",
   "metadata": {},
   "outputs": [],
   "source": [
    "# Obtener el timestamp de inserción\n",
    "#fecha_insercion = datetime.now().timestamp()"
   ]
  },
  {
   "cell_type": "code",
   "execution_count": 17,
   "id": "472bf881-e3a5-4437-9bc2-06c8ef53fd7b",
   "metadata": {},
   "outputs": [],
   "source": [
    "# Obtener el timestamp de inserción como objeto de fecha y hora\n",
    "fecha_insercion = datetime.now()"
   ]
  },
  {
   "cell_type": "code",
   "execution_count": 18,
   "id": "4afa7a0d-4d40-41f1-8dae-54e1b9967e9b",
   "metadata": {},
   "outputs": [
    {
     "data": {
      "text/html": [
       "<div>\n",
       "<style scoped>\n",
       "    .dataframe tbody tr th:only-of-type {\n",
       "        vertical-align: middle;\n",
       "    }\n",
       "\n",
       "    .dataframe tbody tr th {\n",
       "        vertical-align: top;\n",
       "    }\n",
       "\n",
       "    .dataframe thead th {\n",
       "        text-align: right;\n",
       "    }\n",
       "</style>\n",
       "<table border=\"1\" class=\"dataframe\">\n",
       "  <thead>\n",
       "    <tr style=\"text-align: right;\">\n",
       "      <th></th>\n",
       "      <th>id</th>\n",
       "      <th>rank</th>\n",
       "      <th>name</th>\n",
       "      <th>supply</th>\n",
       "      <th>maxSupply</th>\n",
       "      <th>marketCapUsd</th>\n",
       "      <th>volumeUsd24Hr</th>\n",
       "      <th>priceUsd</th>\n",
       "      <th>changePercent24Hr</th>\n",
       "      <th>vwap24Hr</th>\n",
       "      <th>explorer</th>\n",
       "      <th>fecha_consulta</th>\n",
       "    </tr>\n",
       "  </thead>\n",
       "  <tbody>\n",
       "    <tr>\n",
       "      <th>0</th>\n",
       "      <td>BTC</td>\n",
       "      <td>1</td>\n",
       "      <td>Bitcoin</td>\n",
       "      <td>19685243.0000000000000000</td>\n",
       "      <td>21000000.0000000000000000</td>\n",
       "      <td>1189837300157.3691837089125540</td>\n",
       "      <td>11217139525.2286809388781974</td>\n",
       "      <td>60443.1096002914052780</td>\n",
       "      <td>-2.6082328009656209</td>\n",
       "      <td>63103.4281638439132020</td>\n",
       "      <td>https://blockchain.info/</td>\n",
       "      <td>2024-04-17 15:40:42.931407872</td>\n",
       "    </tr>\n",
       "    <tr>\n",
       "      <th>1</th>\n",
       "      <td>ETH</td>\n",
       "      <td>2</td>\n",
       "      <td>Ethereum</td>\n",
       "      <td>120071733.9252206000000000</td>\n",
       "      <td>None</td>\n",
       "      <td>354207113978.1147398639114714</td>\n",
       "      <td>6223324803.0007848095851188</td>\n",
       "      <td>2949.9625132315584501</td>\n",
       "      <td>-2.6045143096992918</td>\n",
       "      <td>3063.5653245051833818</td>\n",
       "      <td>https://etherscan.io/</td>\n",
       "      <td>2024-04-17 15:40:42.931407872</td>\n",
       "    </tr>\n",
       "    <tr>\n",
       "      <th>2</th>\n",
       "      <td>USDT</td>\n",
       "      <td>3</td>\n",
       "      <td>Tether</td>\n",
       "      <td>108732462510.7544700000000000</td>\n",
       "      <td>None</td>\n",
       "      <td>108901291006.0586521444639877</td>\n",
       "      <td>22366702473.7427305118974532</td>\n",
       "      <td>1.0015526963282698</td>\n",
       "      <td>0.0425996655050704</td>\n",
       "      <td>1.0010149785641852</td>\n",
       "      <td>https://www.omniexplorer.info/asset/31</td>\n",
       "      <td>2024-04-17 15:40:42.931407872</td>\n",
       "    </tr>\n",
       "    <tr>\n",
       "      <th>3</th>\n",
       "      <td>BNB</td>\n",
       "      <td>4</td>\n",
       "      <td>BNB</td>\n",
       "      <td>166801148.0000000000000000</td>\n",
       "      <td>166801148.0000000000000000</td>\n",
       "      <td>86957807522.8059890080470576</td>\n",
       "      <td>560044903.2037886138867631</td>\n",
       "      <td>521.3261932873866612</td>\n",
       "      <td>-1.1367368410468888</td>\n",
       "      <td>537.9802524123700615</td>\n",
       "      <td>https://etherscan.io/token/0xB8c77482e45F1F44d...</td>\n",
       "      <td>2024-04-17 15:40:42.931407872</td>\n",
       "    </tr>\n",
       "    <tr>\n",
       "      <th>4</th>\n",
       "      <td>SOL</td>\n",
       "      <td>5</td>\n",
       "      <td>Solana</td>\n",
       "      <td>446708850.8686387000000000</td>\n",
       "      <td>None</td>\n",
       "      <td>57530154722.8092168388407203</td>\n",
       "      <td>1657402505.3845136132217524</td>\n",
       "      <td>128.7866909530449487</td>\n",
       "      <td>-0.5551339973190083</td>\n",
       "      <td>135.4809080939909859</td>\n",
       "      <td>https://explorer.solana.com/</td>\n",
       "      <td>2024-04-17 15:40:42.931407872</td>\n",
       "    </tr>\n",
       "  </tbody>\n",
       "</table>\n",
       "</div>"
      ],
      "text/plain": [
       "     id rank      name                         supply  \\\n",
       "0   BTC    1   Bitcoin      19685243.0000000000000000   \n",
       "1   ETH    2  Ethereum     120071733.9252206000000000   \n",
       "2  USDT    3    Tether  108732462510.7544700000000000   \n",
       "3   BNB    4       BNB     166801148.0000000000000000   \n",
       "4   SOL    5    Solana     446708850.8686387000000000   \n",
       "\n",
       "                    maxSupply                    marketCapUsd  \\\n",
       "0   21000000.0000000000000000  1189837300157.3691837089125540   \n",
       "1                        None   354207113978.1147398639114714   \n",
       "2                        None   108901291006.0586521444639877   \n",
       "3  166801148.0000000000000000    86957807522.8059890080470576   \n",
       "4                        None    57530154722.8092168388407203   \n",
       "\n",
       "                  volumeUsd24Hr                priceUsd    changePercent24Hr  \\\n",
       "0  11217139525.2286809388781974  60443.1096002914052780  -2.6082328009656209   \n",
       "1   6223324803.0007848095851188   2949.9625132315584501  -2.6045143096992918   \n",
       "2  22366702473.7427305118974532      1.0015526963282698   0.0425996655050704   \n",
       "3    560044903.2037886138867631    521.3261932873866612  -1.1367368410468888   \n",
       "4   1657402505.3845136132217524    128.7866909530449487  -0.5551339973190083   \n",
       "\n",
       "                 vwap24Hr                                           explorer  \\\n",
       "0  63103.4281638439132020                           https://blockchain.info/   \n",
       "1   3063.5653245051833818                              https://etherscan.io/   \n",
       "2      1.0010149785641852             https://www.omniexplorer.info/asset/31   \n",
       "3    537.9802524123700615  https://etherscan.io/token/0xB8c77482e45F1F44d...   \n",
       "4    135.4809080939909859                       https://explorer.solana.com/   \n",
       "\n",
       "                 fecha_consulta  \n",
       "0 2024-04-17 15:40:42.931407872  \n",
       "1 2024-04-17 15:40:42.931407872  \n",
       "2 2024-04-17 15:40:42.931407872  \n",
       "3 2024-04-17 15:40:42.931407872  \n",
       "4 2024-04-17 15:40:42.931407872  "
      ]
     },
     "execution_count": 18,
     "metadata": {},
     "output_type": "execute_result"
    }
   ],
   "source": [
    "df.head()"
   ]
  },
  {
   "cell_type": "code",
   "execution_count": 19,
   "id": "a55958fc-7a66-4728-9c40-28e3480ddcd7",
   "metadata": {},
   "outputs": [],
   "source": [
    "# Insertamos registros\n",
    "for index, row in df.iterrows():\n",
    "    cursor.execute(\"INSERT INTO crypto (id, rank, name, supply, maxSupply, marketCapUsd, volumeUsd24Hr, priceUsd, changePercent24Hr, vwap24Hr, explorer, fecha_consulta, fecha_insercion) VALUES (%s, %s, %s, %s, %s, %s, %s, %s, %s, %s, %s, %s, %s)\",\n",
    "                   (row['id'], row['rank'], row['name'], row['supply'], row['maxSupply'], row['marketCapUsd'], row['volumeUsd24Hr'], row['priceUsd'], row['changePercent24Hr'], row['vwap24Hr'], row['explorer'], row['fecha_consulta'], fecha_insercion))\n",
    "\n",
    "\n",
    "# Confirmar la inserción de los registros\n",
    "conn.commit()\n",
    "\n"
   ]
  },
  {
   "cell_type": "code",
   "execution_count": 20,
   "id": "770e3717-45ee-4e24-9eb9-65f1fc28d3f2",
   "metadata": {},
   "outputs": [],
   "source": [
    "# Consulta\n",
    "query = \"SELECT * FROM crypto\""
   ]
  },
  {
   "cell_type": "code",
   "execution_count": 21,
   "id": "d7d2abb2-e886-43a4-86c7-d804b28702ae",
   "metadata": {},
   "outputs": [
    {
     "name": "stderr",
     "output_type": "stream",
     "text": [
      "C:\\Users\\machi\\anaconda3\\lib\\site-packages\\pandas\\io\\sql.py:761: UserWarning: pandas only support SQLAlchemy connectable(engine/connection) ordatabase string URI or sqlite3 DBAPI2 connectionother DBAPI2 objects are not tested, please consider using SQLAlchemy\n",
      "  warnings.warn(\n"
     ]
    }
   ],
   "source": [
    "# Leer la tabla en un DataFrame\n",
    "df_result = pd.read_sql_query(query, conn)"
   ]
  },
  {
   "cell_type": "code",
   "execution_count": 22,
   "id": "daf8c2b4-5cf6-4e52-ba0d-fdda05304a91",
   "metadata": {},
   "outputs": [],
   "source": [
    "# Cerrar el cursor y la conexión\n",
    "cursor.close()\n",
    "conn.close()"
   ]
  },
  {
   "cell_type": "code",
   "execution_count": 23,
   "id": "14040a6d-2e50-49d4-add5-10fca409c4b2",
   "metadata": {},
   "outputs": [
    {
     "name": "stdout",
     "output_type": "stream",
     "text": [
      "      id  rank       name        supply     maxsupply  marketcapusd  \\\n",
      "0    BTC     1    Bitcoin  1.968524e+07  2.100000e+07  1.189837e+12   \n",
      "1    ETH     2   Ethereum  1.200717e+08           NaN  3.542071e+11   \n",
      "2   USDT     3     Tether  1.087325e+11           NaN  1.089013e+11   \n",
      "3    BNB     4        BNB  1.668011e+08  1.668011e+08  8.695781e+10   \n",
      "4    SOL     5     Solana  4.467089e+08           NaN  5.753015e+10   \n",
      "..   ...   ...        ...           ...           ...           ...   \n",
      "95  CELO    96       Celo  5.338178e+08  1.000000e+09  3.982596e+08   \n",
      "96   FTT    97  FTX Token  3.288951e+08  3.521700e+08  3.972756e+08   \n",
      "97   NXM    98        NXM  6.594068e+06           NaN  3.969031e+08   \n",
      "98   ELF    99       aelf  7.263902e+08  1.000000e+09  3.920141e+08   \n",
      "99  QTUM   100       Qtum  1.047558e+08  1.078224e+08  3.905774e+08   \n",
      "\n",
      "    volumeusd24hr  priceusd  changepercent24hr  vwap24hr  \\\n",
      "0    1.121714e+10   60443.0               -3.0   63103.0   \n",
      "1    6.223325e+09    2950.0               -3.0    3064.0   \n",
      "2    2.236670e+10       1.0                0.0       1.0   \n",
      "3    5.600449e+08     521.0               -1.0     538.0   \n",
      "4    1.657403e+09     129.0               -1.0     135.0   \n",
      "..            ...       ...                ...       ...   \n",
      "95   7.433663e+06       1.0                1.0       1.0   \n",
      "96   8.138595e+06       1.0               -2.0       1.0   \n",
      "97   2.967881e+07      60.0               -2.0      63.0   \n",
      "98   3.854689e+06       1.0               -1.0       1.0   \n",
      "99   1.703846e+07       4.0               -3.0       4.0   \n",
      "\n",
      "                                             explorer  \\\n",
      "0                            https://blockchain.info/   \n",
      "1                               https://etherscan.io/   \n",
      "2              https://www.omniexplorer.info/asset/31   \n",
      "3   https://etherscan.io/token/0xB8c77482e45F1F44d...   \n",
      "4                        https://explorer.solana.com/   \n",
      "..                                                ...   \n",
      "95                   https://explorer.celo.org/blocks   \n",
      "96  https://etherscan.io/token/0x50d1c977190247607...   \n",
      "97  https://etherscan.io/token/0xd7c49cee7e9188cca...   \n",
      "98  https://etherscan.io/token/0xbf2179859fc6D5BEE...   \n",
      "99                                 https://qtum.info/   \n",
      "\n",
      "               fecha_consulta            fecha_insercion  \n",
      "0  2024-04-17 15:40:42.931408 2024-04-17 12:40:47.700878  \n",
      "1  2024-04-17 15:40:42.931408 2024-04-17 12:40:47.700878  \n",
      "2  2024-04-17 15:40:42.931408 2024-04-17 12:40:47.700878  \n",
      "3  2024-04-17 15:40:42.931408 2024-04-17 12:40:47.700878  \n",
      "4  2024-04-17 15:40:42.931408 2024-04-17 12:40:47.700878  \n",
      "..                        ...                        ...  \n",
      "95 2024-04-17 15:40:42.931408 2024-04-17 12:40:47.700878  \n",
      "96 2024-04-17 15:40:42.931408 2024-04-17 12:40:47.700878  \n",
      "97 2024-04-17 15:40:42.931408 2024-04-17 12:40:47.700878  \n",
      "98 2024-04-17 15:40:42.931408 2024-04-17 12:40:47.700878  \n",
      "99 2024-04-17 15:40:42.931408 2024-04-17 12:40:47.700878  \n",
      "\n",
      "[100 rows x 13 columns]\n"
     ]
    }
   ],
   "source": [
    "# Mostrar el DataFrame resultante\n",
    "print(df_result)"
   ]
  },
  {
   "cell_type": "code",
   "execution_count": null,
   "id": "729c2137-5b72-4fdc-a1a3-6d11b6da21d3",
   "metadata": {},
   "outputs": [],
   "source": []
  }
 ],
 "metadata": {
  "kernelspec": {
   "display_name": "Python 3 (ipykernel)",
   "language": "python",
   "name": "python3"
  },
  "language_info": {
   "codemirror_mode": {
    "name": "ipython",
    "version": 3
   },
   "file_extension": ".py",
   "mimetype": "text/x-python",
   "name": "python",
   "nbconvert_exporter": "python",
   "pygments_lexer": "ipython3",
   "version": "3.9.12"
  }
 },
 "nbformat": 4,
 "nbformat_minor": 5
}
