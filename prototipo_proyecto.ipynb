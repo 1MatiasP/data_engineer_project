{
 "cells": [
  {
   "cell_type": "code",
   "execution_count": 1,
   "id": "57378d61-3189-479d-b72b-7824c7537cf5",
   "metadata": {},
   "outputs": [],
   "source": [
    "# Importamos librerías necesarias\n",
    "\n",
    "import requests\n",
    "import pandas as pd\n",
    "import psycopg2\n",
    "from datetime import datetime"
   ]
  },
  {
   "cell_type": "code",
   "execution_count": 2,
   "id": "a7cd0332-39cd-48a0-b028-1ab8aca97085",
   "metadata": {},
   "outputs": [],
   "source": [
    "# URL base de la API de CoinCap\n",
    "base_url = \"https://api.coincap.io/v2\"\n"
   ]
  },
  {
   "cell_type": "code",
   "execution_count": 3,
   "id": "a8fdf0bc-0290-4703-b0a5-c209167e07bd",
   "metadata": {},
   "outputs": [],
   "source": [
    "# Endpoint para obtener datos de activos\n",
    "endpoint = \"/assets\""
   ]
  },
  {
   "cell_type": "code",
   "execution_count": 4,
   "id": "e5d6dd81-9874-40e1-b8a8-99d2213ec086",
   "metadata": {},
   "outputs": [],
   "source": [
    "# Encabezados de la solicitud con la clave API\n",
    "headers = {\n",
    "    \"Accept-Encoding\": \"gzip, deflate\"}"
   ]
  },
  {
   "cell_type": "code",
   "execution_count": 5,
   "id": "ebf89d1a-935d-4b8a-a48a-1bc87d1c48aa",
   "metadata": {},
   "outputs": [],
   "source": [
    "# URL completa para la solicitud\n",
    "url = base_url + endpoint"
   ]
  },
  {
   "cell_type": "code",
   "execution_count": 6,
   "id": "b4d85bdf-5e62-4884-a8da-6231b0f4af62",
   "metadata": {},
   "outputs": [],
   "source": [
    "# Realizar la solicitud GET a la API\n",
    "response = requests.get(url, headers=headers)"
   ]
  },
  {
   "cell_type": "code",
   "execution_count": 7,
   "id": "df4c3f4e-d255-4dd0-9ca7-abd6acf4cee1",
   "metadata": {},
   "outputs": [
    {
     "name": "stdout",
     "output_type": "stream",
     "text": [
      "{'id': 'bitcoin', 'rank': '1', 'symbol': 'BTC', 'name': 'Bitcoin', 'supply': '19685775.0000000000000000', 'maxSupply': '21000000.0000000000000000', 'marketCapUsd': '1235363300388.9287958480714225', 'volumeUsd24Hr': '7341729264.2379000069559735', 'priceUsd': '62754.1105386467535999', 'changePercent24Hr': '-1.8064028304167488', 'vwap24Hr': '62732.5386310577606449', 'explorer': 'https://blockchain.info/'}\n",
      "{'id': 'ethereum', 'rank': '2', 'symbol': 'ETH', 'name': 'Ethereum', 'supply': '120072116.6801383000000000', 'maxSupply': None, 'marketCapUsd': '381013768280.9152805825175488', 'volumeUsd24Hr': '5815466411.4731633367792303', 'priceUsd': '3173.2077256196199002', 'changePercent24Hr': '-4.9680474296376156', 'vwap24Hr': '3204.8033951901477238', 'explorer': 'https://etherscan.io/'}\n",
      "{'id': 'tether', 'rank': '3', 'symbol': 'USDT', 'name': 'Tether', 'supply': '109031963304.8744800000000000', 'maxSupply': None, 'marketCapUsd': '109109083895.0969952040657781', 'volumeUsd24Hr': '15978129201.3001364866670266', 'priceUsd': '1.0007073209349342', 'changePercent24Hr': '0.0186013617483344', 'vwap24Hr': '1.0000092703844529', 'explorer': 'https://www.omniexplorer.info/asset/31'}\n",
      "{'id': 'binance-coin', 'rank': '4', 'symbol': 'BNB', 'name': 'BNB', 'supply': '166801148.0000000000000000', 'maxSupply': '166801148.0000000000000000', 'marketCapUsd': '98568026659.4718950500250056', 'volumeUsd24Hr': '358035230.0364964918872859', 'priceUsd': '590.9313445460932622', 'changePercent24Hr': '-2.4684278366642165', 'vwap24Hr': '591.2645697608723939', 'explorer': 'https://etherscan.io/token/0xB8c77482e45F1F44dE1745F52C74426C631bDD52'}\n",
      "{'id': 'solana', 'rank': '5', 'symbol': 'SOL', 'name': 'Solana', 'supply': '446702697.3313378700000000', 'maxSupply': None, 'marketCapUsd': '60214373004.1416565138681220', 'volumeUsd24Hr': '716976255.6766622177428654', 'priceUsd': '134.7974242463061849', 'changePercent24Hr': '-5.9330164183301314', 'vwap24Hr': '136.6830518799166738', 'explorer': 'https://explorer.solana.com/'}\n"
     ]
    }
   ],
   "source": [
    "# Verificar el código de estado de la respuesta\n",
    "if response.status_code == 200:\n",
    "    # La solicitud fue exitosa\n",
    "    data = response.json()\n",
    "    # Imprimir los datos de los activos (solo imprime los primeros 5 en este ejemplo)\n",
    "    for asset in data['data'][:5]:\n",
    "        print(asset)\n",
    "else:\n",
    "    # La solicitud falló\n",
    "    print(\"Error al realizar la solicitud:\", response.status_code)\n"
   ]
  },
  {
   "cell_type": "code",
   "execution_count": 8,
   "id": "7ff466ed-0d06-47a2-bc46-23a9a91ae237",
   "metadata": {},
   "outputs": [],
   "source": [
    "# Convertir el JSON a un DataFrame de pandas\n",
    "df = pd.DataFrame(data['data'])"
   ]
  },
  {
   "cell_type": "code",
   "execution_count": 9,
   "id": "5b798bbb-5f2a-4ff7-9192-2639868f9b44",
   "metadata": {},
   "outputs": [],
   "source": [
    "#Agregamos columna fecha de consulta\n",
    "fecha_consulta = datetime.now().timestamp()\n",
    "df['fecha_consulta'] = pd.to_datetime(fecha_consulta, unit='s')"
   ]
  },
  {
   "cell_type": "code",
   "execution_count": 10,
   "id": "8dd47663-0878-4c6d-97d5-996f9f157679",
   "metadata": {},
   "outputs": [],
   "source": [
    "# Eliminar columnas innecesarias\n",
    "df.drop(['id'], axis=1, inplace=True)"
   ]
  },
  {
   "cell_type": "code",
   "execution_count": 11,
   "id": "b9689dab-af0f-400e-a129-1c40a39c9b75",
   "metadata": {},
   "outputs": [],
   "source": [
    "# Elegimos la columna symbol como ID. Reordenamos y renombramos\n",
    "symbol_column = df.pop('symbol')  \n",
    "df.insert(0, 'id', symbol_column)"
   ]
  },
  {
   "cell_type": "code",
   "execution_count": 12,
   "id": "bef89446-200b-454d-9144-16cc67e8470d",
   "metadata": {},
   "outputs": [
    {
     "name": "stdout",
     "output_type": "stream",
     "text": [
      "Conectado a Redshift con éxito!\n"
     ]
    }
   ],
   "source": [
    "# Creamos la conexión a Redsshift\n",
    "url=\"data-engineer-cluster.cyhh5bfevlmn.us-east-1.redshift.amazonaws.com\"\n",
    "data_base=\"data-engineer-database\"\n",
    "user=\"matiaspereyra_coderhouse\"\n",
    "with open(\"C:/Users/machi/Desktop/Cursos/Data Engineer/Coder/pwdredshift.txt\",'r') as f:\n",
    "    pwd= f.read()\n",
    "try:\n",
    "    conn = psycopg2.connect(\n",
    "        host='data-engineer-cluster.cyhh5bfevlmn.us-east-1.redshift.amazonaws.com',\n",
    "        dbname=data_base,\n",
    "        user=user,\n",
    "        password=pwd,\n",
    "        port='5439'\n",
    "    )\n",
    "    print(\"Conectado a Redshift con éxito!\")\n",
    "    \n",
    "except Exception as e:\n",
    "    print(\"No es posible conectar a Redshift\")\n",
    "    print(e)"
   ]
  },
  {
   "cell_type": "code",
   "execution_count": 13,
   "id": "3820d077-8261-4652-b214-89980c60651e",
   "metadata": {},
   "outputs": [],
   "source": [
    "#Crear cursor\n",
    "cursor = conn.cursor()"
   ]
  },
  {
   "cell_type": "code",
   "execution_count": 14,
   "id": "06bfbf13-1aed-4a43-9054-199e11ec9e74",
   "metadata": {},
   "outputs": [],
   "source": [
    "#Crear la tabla\n",
    "with conn.cursor() as cur:\n",
    "    cur.execute(\"\"\"\n",
    "        CREATE TABLE IF NOT EXISTS matiaspereyra_coderhouse.crypto\n",
    "        (\n",
    "\t    id VARCHAR(50) primary key  \n",
    "\t    ,rank INTEGER\n",
    "\t    ,name VARCHAR(255)  \n",
    "\t    ,supply DECIMAL\n",
    "\t    ,maxSupply DECIMAL\n",
    "\t    ,marketCapUsd DECIMAL\n",
    "\t    ,volumeUsd24Hr DECIMAL  \n",
    "\t    ,priceUsd DECIMAL \n",
    "\t    ,changePercent24Hr DECIMAL  \n",
    "\t    ,vwap24Hr DECIMAL\n",
    "\t    ,explorer VARCHAR(255)\n",
    "\t    ,fecha_consulta TIMESTAMP\n",
    "\t    ,fecha_insercion TIMESTAMP\n",
    "\t    )\n",
    "    \"\"\")\n",
    "    conn.commit()"
   ]
  },
  {
   "cell_type": "code",
   "execution_count": 15,
   "id": "e0141a45-11ee-444b-977a-8221421fe753",
   "metadata": {},
   "outputs": [],
   "source": [
    "# Eliminar los registros existentes\n",
    "cursor.execute(\"DELETE FROM crypto\")\n",
    "conn.commit()"
   ]
  },
  {
   "cell_type": "code",
   "execution_count": 18,
   "id": "4afa7a0d-4d40-41f1-8dae-54e1b9967e9b",
   "metadata": {},
   "outputs": [
    {
     "data": {
      "text/html": [
       "<div>\n",
       "<style scoped>\n",
       "    .dataframe tbody tr th:only-of-type {\n",
       "        vertical-align: middle;\n",
       "    }\n",
       "\n",
       "    .dataframe tbody tr th {\n",
       "        vertical-align: top;\n",
       "    }\n",
       "\n",
       "    .dataframe thead th {\n",
       "        text-align: right;\n",
       "    }\n",
       "</style>\n",
       "<table border=\"1\" class=\"dataframe\">\n",
       "  <thead>\n",
       "    <tr style=\"text-align: right;\">\n",
       "      <th></th>\n",
       "      <th>id</th>\n",
       "      <th>rank</th>\n",
       "      <th>name</th>\n",
       "      <th>supply</th>\n",
       "      <th>maxSupply</th>\n",
       "      <th>marketCapUsd</th>\n",
       "      <th>volumeUsd24Hr</th>\n",
       "      <th>priceUsd</th>\n",
       "      <th>changePercent24Hr</th>\n",
       "      <th>vwap24Hr</th>\n",
       "      <th>explorer</th>\n",
       "      <th>fecha_consulta</th>\n",
       "    </tr>\n",
       "  </thead>\n",
       "  <tbody>\n",
       "    <tr>\n",
       "      <th>0</th>\n",
       "      <td>BTC</td>\n",
       "      <td>1</td>\n",
       "      <td>Bitcoin</td>\n",
       "      <td>19685775.0000000000000000</td>\n",
       "      <td>21000000.0000000000000000</td>\n",
       "      <td>1235363300388.9287958480714225</td>\n",
       "      <td>7341729264.2379000069559735</td>\n",
       "      <td>62754.1105386467535999</td>\n",
       "      <td>-1.8064028304167488</td>\n",
       "      <td>62732.5386310577606449</td>\n",
       "      <td>https://blockchain.info/</td>\n",
       "      <td>2024-04-29 19:09:18.525556992</td>\n",
       "    </tr>\n",
       "    <tr>\n",
       "      <th>1</th>\n",
       "      <td>ETH</td>\n",
       "      <td>2</td>\n",
       "      <td>Ethereum</td>\n",
       "      <td>120072116.6801383000000000</td>\n",
       "      <td>None</td>\n",
       "      <td>381013768280.9152805825175488</td>\n",
       "      <td>5815466411.4731633367792303</td>\n",
       "      <td>3173.2077256196199002</td>\n",
       "      <td>-4.9680474296376156</td>\n",
       "      <td>3204.8033951901477238</td>\n",
       "      <td>https://etherscan.io/</td>\n",
       "      <td>2024-04-29 19:09:18.525556992</td>\n",
       "    </tr>\n",
       "    <tr>\n",
       "      <th>2</th>\n",
       "      <td>USDT</td>\n",
       "      <td>3</td>\n",
       "      <td>Tether</td>\n",
       "      <td>109031963304.8744800000000000</td>\n",
       "      <td>None</td>\n",
       "      <td>109109083895.0969952040657781</td>\n",
       "      <td>15978129201.3001364866670266</td>\n",
       "      <td>1.0007073209349342</td>\n",
       "      <td>0.0186013617483344</td>\n",
       "      <td>1.0000092703844529</td>\n",
       "      <td>https://www.omniexplorer.info/asset/31</td>\n",
       "      <td>2024-04-29 19:09:18.525556992</td>\n",
       "    </tr>\n",
       "    <tr>\n",
       "      <th>3</th>\n",
       "      <td>BNB</td>\n",
       "      <td>4</td>\n",
       "      <td>BNB</td>\n",
       "      <td>166801148.0000000000000000</td>\n",
       "      <td>166801148.0000000000000000</td>\n",
       "      <td>98568026659.4718950500250056</td>\n",
       "      <td>358035230.0364964918872859</td>\n",
       "      <td>590.9313445460932622</td>\n",
       "      <td>-2.4684278366642165</td>\n",
       "      <td>591.2645697608723939</td>\n",
       "      <td>https://etherscan.io/token/0xB8c77482e45F1F44d...</td>\n",
       "      <td>2024-04-29 19:09:18.525556992</td>\n",
       "    </tr>\n",
       "    <tr>\n",
       "      <th>4</th>\n",
       "      <td>SOL</td>\n",
       "      <td>5</td>\n",
       "      <td>Solana</td>\n",
       "      <td>446702697.3313378700000000</td>\n",
       "      <td>None</td>\n",
       "      <td>60214373004.1416565138681220</td>\n",
       "      <td>716976255.6766622177428654</td>\n",
       "      <td>134.7974242463061849</td>\n",
       "      <td>-5.9330164183301314</td>\n",
       "      <td>136.6830518799166738</td>\n",
       "      <td>https://explorer.solana.com/</td>\n",
       "      <td>2024-04-29 19:09:18.525556992</td>\n",
       "    </tr>\n",
       "  </tbody>\n",
       "</table>\n",
       "</div>"
      ],
      "text/plain": [
       "     id rank      name                         supply  \\\n",
       "0   BTC    1   Bitcoin      19685775.0000000000000000   \n",
       "1   ETH    2  Ethereum     120072116.6801383000000000   \n",
       "2  USDT    3    Tether  109031963304.8744800000000000   \n",
       "3   BNB    4       BNB     166801148.0000000000000000   \n",
       "4   SOL    5    Solana     446702697.3313378700000000   \n",
       "\n",
       "                    maxSupply                    marketCapUsd  \\\n",
       "0   21000000.0000000000000000  1235363300388.9287958480714225   \n",
       "1                        None   381013768280.9152805825175488   \n",
       "2                        None   109109083895.0969952040657781   \n",
       "3  166801148.0000000000000000    98568026659.4718950500250056   \n",
       "4                        None    60214373004.1416565138681220   \n",
       "\n",
       "                  volumeUsd24Hr                priceUsd    changePercent24Hr  \\\n",
       "0   7341729264.2379000069559735  62754.1105386467535999  -1.8064028304167488   \n",
       "1   5815466411.4731633367792303   3173.2077256196199002  -4.9680474296376156   \n",
       "2  15978129201.3001364866670266      1.0007073209349342   0.0186013617483344   \n",
       "3    358035230.0364964918872859    590.9313445460932622  -2.4684278366642165   \n",
       "4    716976255.6766622177428654    134.7974242463061849  -5.9330164183301314   \n",
       "\n",
       "                 vwap24Hr                                           explorer  \\\n",
       "0  62732.5386310577606449                           https://blockchain.info/   \n",
       "1   3204.8033951901477238                              https://etherscan.io/   \n",
       "2      1.0000092703844529             https://www.omniexplorer.info/asset/31   \n",
       "3    591.2645697608723939  https://etherscan.io/token/0xB8c77482e45F1F44d...   \n",
       "4    136.6830518799166738                       https://explorer.solana.com/   \n",
       "\n",
       "                 fecha_consulta  \n",
       "0 2024-04-29 19:09:18.525556992  \n",
       "1 2024-04-29 19:09:18.525556992  \n",
       "2 2024-04-29 19:09:18.525556992  \n",
       "3 2024-04-29 19:09:18.525556992  \n",
       "4 2024-04-29 19:09:18.525556992  "
      ]
     },
     "execution_count": 18,
     "metadata": {},
     "output_type": "execute_result"
    }
   ],
   "source": [
    "df.head()"
   ]
  },
  {
   "cell_type": "code",
   "execution_count": 19,
   "id": "a55958fc-7a66-4728-9c40-28e3480ddcd7",
   "metadata": {},
   "outputs": [],
   "source": [
    "# Insertamos registros\n",
    "for index, row in df.iterrows():\n",
    "    cursor.execute(\"INSERT INTO crypto (id, rank, name, supply, maxSupply, marketCapUsd, volumeUsd24Hr, priceUsd, changePercent24Hr, vwap24Hr, explorer, fecha_consulta, fecha_insercion) VALUES (%s, %s, %s, %s, %s, %s, %s, %s, %s, %s, %s, %s, %s)\",\n",
    "                   (row['id'], row['rank'], row['name'], row['supply'], row['maxSupply'], row['marketCapUsd'], row['volumeUsd24Hr'], row['priceUsd'], row['changePercent24Hr'], row['vwap24Hr'], row['explorer'], row['fecha_consulta'], datetime.now()))\n",
    "\n",
    "\n",
    "# Confirmar la inserción de los registros\n",
    "conn.commit()\n",
    "\n"
   ]
  },
  {
   "cell_type": "code",
   "execution_count": 20,
   "id": "770e3717-45ee-4e24-9eb9-65f1fc28d3f2",
   "metadata": {},
   "outputs": [],
   "source": [
    "# Consulta\n",
    "query = \"SELECT * FROM crypto\""
   ]
  },
  {
   "cell_type": "code",
   "execution_count": 21,
   "id": "d7d2abb2-e886-43a4-86c7-d804b28702ae",
   "metadata": {},
   "outputs": [
    {
     "name": "stderr",
     "output_type": "stream",
     "text": [
      "C:\\Users\\machi\\anaconda3\\lib\\site-packages\\pandas\\io\\sql.py:761: UserWarning: pandas only support SQLAlchemy connectable(engine/connection) ordatabase string URI or sqlite3 DBAPI2 connectionother DBAPI2 objects are not tested, please consider using SQLAlchemy\n",
      "  warnings.warn(\n"
     ]
    }
   ],
   "source": [
    "# Leer la tabla en un DataFrame\n",
    "df_result = pd.read_sql_query(query, conn)"
   ]
  },
  {
   "cell_type": "code",
   "execution_count": 22,
   "id": "daf8c2b4-5cf6-4e52-ba0d-fdda05304a91",
   "metadata": {},
   "outputs": [],
   "source": [
    "# Cerrar el cursor y la conexión\n",
    "cursor.close()\n",
    "conn.close()"
   ]
  },
  {
   "cell_type": "code",
   "execution_count": 23,
   "id": "14040a6d-2e50-49d4-add5-10fca409c4b2",
   "metadata": {},
   "outputs": [
    {
     "name": "stdout",
     "output_type": "stream",
     "text": [
      "      id  rank                name        supply     maxsupply  marketcapusd  \\\n",
      "0    BTC     1             Bitcoin  1.968578e+07  2.100000e+07  1.235363e+12   \n",
      "1    ETH     2            Ethereum  1.200721e+08           NaN  3.810138e+11   \n",
      "2   USDT     3              Tether  1.090320e+11           NaN  1.091091e+11   \n",
      "3    BNB     4                 BNB  1.668011e+08  1.668011e+08  9.856803e+10   \n",
      "4    SOL     5              Solana  4.467027e+08           NaN  6.021437e+10   \n",
      "..   ...   ...                 ...           ...           ...           ...   \n",
      "95   TWT    96  Trust Wallet Token  4.166499e+08  1.000000e+09  4.285587e+08   \n",
      "96   ELF    97                aelf  7.263902e+08  1.000000e+09  4.234347e+08   \n",
      "97  QTUM    98                Qtum  1.047558e+08  1.078224e+08  4.227932e+08   \n",
      "98   ZIL    99             Zilliqa  1.737220e+10  2.100000e+10  4.209497e+08   \n",
      "99   HOT   100                Holo  1.732390e+11           NaN  4.182218e+08   \n",
      "\n",
      "    volumeusd24hr  priceusd  changepercent24hr  vwap24hr  \\\n",
      "0    7.341729e+09   62754.0               -2.0   62733.0   \n",
      "1    5.815466e+09    3173.0               -5.0    3205.0   \n",
      "2    1.597813e+10       1.0                0.0       1.0   \n",
      "3    3.580352e+08     591.0               -2.0     591.0   \n",
      "4    7.169763e+08     135.0               -6.0     137.0   \n",
      "..            ...       ...                ...       ...   \n",
      "95   4.905735e+06       1.0               -4.0       1.0   \n",
      "96   3.343304e+06       1.0               -8.0       1.0   \n",
      "97   1.740032e+07       4.0               -1.0       4.0   \n",
      "98   9.630851e+06       0.0               -4.0       0.0   \n",
      "99   2.139263e+06       0.0               -6.0       0.0   \n",
      "\n",
      "                                             explorer  \\\n",
      "0                            https://blockchain.info/   \n",
      "1                               https://etherscan.io/   \n",
      "2              https://www.omniexplorer.info/asset/31   \n",
      "3   https://etherscan.io/token/0xB8c77482e45F1F44d...   \n",
      "4                        https://explorer.solana.com/   \n",
      "..                                                ...   \n",
      "95         https://explorer.binance.org/asset/TWT-8C2   \n",
      "96  https://etherscan.io/token/0xbf2179859fc6D5BEE...   \n",
      "97                                 https://qtum.info/   \n",
      "98  https://etherscan.io/token/0x05f4a42e251f2d52b...   \n",
      "99  https://etherscan.io/token/0x6c6ee5e31d828de24...   \n",
      "\n",
      "               fecha_consulta            fecha_insercion  \n",
      "0  2024-04-29 19:09:18.525557 2024-04-29 16:09:21.696524  \n",
      "1  2024-04-29 19:09:18.525557 2024-04-29 16:09:22.074643  \n",
      "2  2024-04-29 19:09:18.525557 2024-04-29 16:09:22.281636  \n",
      "3  2024-04-29 19:09:18.525557 2024-04-29 16:09:22.482668  \n",
      "4  2024-04-29 19:09:18.525557 2024-04-29 16:09:22.685676  \n",
      "..                        ...                        ...  \n",
      "95 2024-04-29 19:09:18.525557 2024-04-29 16:09:46.037003  \n",
      "96 2024-04-29 19:09:18.525557 2024-04-29 16:09:46.239004  \n",
      "97 2024-04-29 19:09:18.525557 2024-04-29 16:09:46.440996  \n",
      "98 2024-04-29 19:09:18.525557 2024-04-29 16:09:46.647006  \n",
      "99 2024-04-29 19:09:18.525557 2024-04-29 16:09:46.850998  \n",
      "\n",
      "[100 rows x 13 columns]\n"
     ]
    }
   ],
   "source": [
    "# Mostrar el DataFrame resultante\n",
    "print(df_result)"
   ]
  },
  {
   "cell_type": "code",
   "execution_count": null,
   "id": "729c2137-5b72-4fdc-a1a3-6d11b6da21d3",
   "metadata": {},
   "outputs": [],
   "source": []
  }
 ],
 "metadata": {
  "kernelspec": {
   "display_name": "Python 3 (ipykernel)",
   "language": "python",
   "name": "python3"
  },
  "language_info": {
   "codemirror_mode": {
    "name": "ipython",
    "version": 3
   },
   "file_extension": ".py",
   "mimetype": "text/x-python",
   "name": "python",
   "nbconvert_exporter": "python",
   "pygments_lexer": "ipython3",
   "version": "3.9.12"
  }
 },
 "nbformat": 4,
 "nbformat_minor": 5
}
