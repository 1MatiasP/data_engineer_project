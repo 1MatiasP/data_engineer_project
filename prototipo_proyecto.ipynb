{
 "cells": [
  {
   "cell_type": "code",
   "execution_count": 1,
   "id": "57378d61-3189-479d-b72b-7824c7537cf5",
   "metadata": {},
   "outputs": [],
   "source": [
    "# Importamos librerías necesarias\n",
    "\n",
    "import requests\n",
    "import pandas as pd\n",
    "import psycopg2\n",
    "from datetime import datetime"
   ]
  },
  {
   "cell_type": "code",
   "execution_count": 2,
   "id": "a7cd0332-39cd-48a0-b028-1ab8aca97085",
   "metadata": {},
   "outputs": [],
   "source": [
    "# URL base de la API de CoinCap\n",
    "base_url = \"https://api.coincap.io/v2\"\n"
   ]
  },
  {
   "cell_type": "code",
   "execution_count": 3,
   "id": "a8fdf0bc-0290-4703-b0a5-c209167e07bd",
   "metadata": {},
   "outputs": [],
   "source": [
    "# Endpoint para obtener datos de activos\n",
    "endpoint = \"/assets\""
   ]
  },
  {
   "cell_type": "code",
   "execution_count": 4,
   "id": "e5d6dd81-9874-40e1-b8a8-99d2213ec086",
   "metadata": {},
   "outputs": [],
   "source": [
    "# Encabezados de la solicitud con la clave API\n",
    "headers = {\n",
    "    \"Accept-Encoding\": \"gzip, deflate\"}"
   ]
  },
  {
   "cell_type": "code",
   "execution_count": 5,
   "id": "ebf89d1a-935d-4b8a-a48a-1bc87d1c48aa",
   "metadata": {},
   "outputs": [],
   "source": [
    "# URL completa para la solicitud\n",
    "url = base_url + endpoint"
   ]
  },
  {
   "cell_type": "code",
   "execution_count": 6,
   "id": "b4d85bdf-5e62-4884-a8da-6231b0f4af62",
   "metadata": {},
   "outputs": [],
   "source": [
    "# Realizar la solicitud GET a la API\n",
    "response = requests.get(url, headers=headers)"
   ]
  },
  {
   "cell_type": "code",
   "execution_count": 7,
   "id": "df4c3f4e-d255-4dd0-9ca7-abd6acf4cee1",
   "metadata": {},
   "outputs": [
    {
     "name": "stdout",
     "output_type": "stream",
     "text": [
      "{'id': 'bitcoin', 'rank': '1', 'symbol': 'BTC', 'name': 'Bitcoin', 'supply': '19658368.0000000000000000', 'maxSupply': '21000000.0000000000000000', 'marketCapUsd': '1379541138576.5233779148320896', 'volumeUsd24Hr': '5248317047.9717464994862041', 'priceUsd': '70175.7713853216796997', 'changePercent24Hr': '0.1435807209903933', 'vwap24Hr': '69945.2007363079532577', 'explorer': 'https://blockchain.info/'}\n",
      "{'id': 'ethereum', 'rank': '2', 'symbol': 'ETH', 'name': 'Ethereum', 'supply': '120077426.1898597300000000', 'maxSupply': None, 'marketCapUsd': '426013510808.7970615577309671', 'volumeUsd24Hr': '4079956285.5823621395890759', 'priceUsd': '3547.8234696270742473', 'changePercent24Hr': '0.1207086690090205', 'vwap24Hr': '3514.8806637212792651', 'explorer': 'https://etherscan.io/'}\n",
      "{'id': 'tether', 'rank': '3', 'symbol': 'USDT', 'name': 'Tether', 'supply': '103618183617.7160800000000000', 'maxSupply': None, 'marketCapUsd': '103738958254.0555888473491174', 'volumeUsd24Hr': '15974574796.2613123361090223', 'priceUsd': '1.0011655737643992', 'changePercent24Hr': '0.0326977855069566', 'vwap24Hr': '1.0014844079557017', 'explorer': 'https://www.omniexplorer.info/asset/31'}\n",
      "{'id': 'binance-coin', 'rank': '4', 'symbol': 'BNB', 'name': 'BNB', 'supply': '166801148.0000000000000000', 'maxSupply': '166801148.0000000000000000', 'marketCapUsd': '101238180858.5158090041272288', 'volumeUsd24Hr': '555217980.0641864618682240', 'priceUsd': '606.9393530703746056', 'changePercent24Hr': '-1.4364626255561608', 'vwap24Hr': '608.9157890468274129', 'explorer': 'https://etherscan.io/token/0xB8c77482e45F1F44dE1745F52C74426C631bDD52'}\n",
      "{'id': 'solana', 'rank': '5', 'symbol': 'SOL', 'name': 'Solana', 'supply': '443884942.2473194000000000', 'maxSupply': None, 'marketCapUsd': '87353678929.0497069160607483', 'volumeUsd24Hr': '1258173072.4917614961566288', 'priceUsd': '196.7935170019325692', 'changePercent24Hr': '4.8220294073198071', 'vwap24Hr': '193.5879126231700479', 'explorer': 'https://explorer.solana.com/'}\n"
     ]
    }
   ],
   "source": [
    "# Verificar el código de estado de la respuesta\n",
    "if response.status_code == 200:\n",
    "    # La solicitud fue exitosa\n",
    "    data = response.json()\n",
    "    # Imprimir los datos de los activos (solo imprime los primeros 5 en este ejemplo)\n",
    "    for asset in data['data'][:5]:\n",
    "        print(asset)\n",
    "else:\n",
    "    # La solicitud falló\n",
    "    print(\"Error al realizar la solicitud:\", response.status_code)\n"
   ]
  },
  {
   "cell_type": "code",
   "execution_count": 8,
   "id": "7ff466ed-0d06-47a2-bc46-23a9a91ae237",
   "metadata": {},
   "outputs": [],
   "source": [
    "# Convertir el JSON a un DataFrame de pandas\n",
    "df = pd.DataFrame(data['data'])"
   ]
  },
  {
   "cell_type": "code",
   "execution_count": 10,
   "id": "8dd47663-0878-4c6d-97d5-996f9f157679",
   "metadata": {},
   "outputs": [],
   "source": [
    "# Eliminar columnas innecesarias\n",
    "df.drop(['id','maxSupply', 'vwap24Hr', 'explorer'], axis=1, inplace=True)"
   ]
  },
  {
   "cell_type": "code",
   "execution_count": 12,
   "id": "b9689dab-af0f-400e-a129-1c40a39c9b75",
   "metadata": {},
   "outputs": [],
   "source": [
    "# Elegimos la columna symbol como ID. Reordenamos y renombramos\n",
    "symbol_column = df.pop('symbol')  \n",
    "df.insert(0, 'id', symbol_column)"
   ]
  },
  {
   "cell_type": "code",
   "execution_count": 14,
   "id": "7ab83289-4bf6-4d68-b32d-e2c288446103",
   "metadata": {},
   "outputs": [],
   "source": [
    "#Agregamos columna fecha de carga\n",
    "fecha_hoy = datetime.now().timestamp()\n",
    "df['fecha_hoy'] = pd.to_datetime(fecha_hoy, unit='s')"
   ]
  },
  {
   "cell_type": "code",
   "execution_count": 16,
   "id": "bef89446-200b-454d-9144-16cc67e8470d",
   "metadata": {},
   "outputs": [
    {
     "name": "stdout",
     "output_type": "stream",
     "text": [
      "Conectado a Redshift con éxito!\n"
     ]
    }
   ],
   "source": [
    "# Creamos la conexión a Redsshift\n",
    "url=\"data-engineer-cluster.cyhh5bfevlmn.us-east-1.redshift.amazonaws.com\"\n",
    "data_base=\"data-engineer-database\"\n",
    "user=\"matiaspereyra_coderhouse\"\n",
    "with open(\"C:/Users/machi/Desktop/Cursos/Data Engineer/Coder/pwdredshift.txt\",'r') as f:\n",
    "    pwd= f.read()\n",
    "try:\n",
    "    conn = psycopg2.connect(\n",
    "        host='data-engineer-cluster.cyhh5bfevlmn.us-east-1.redshift.amazonaws.com',\n",
    "        dbname=data_base,\n",
    "        user=user,\n",
    "        password=pwd,\n",
    "        port='5439'\n",
    "    )\n",
    "    print(\"Conectado a Redshift con éxito!\")\n",
    "    \n",
    "except Exception as e:\n",
    "    print(\"No es posible conectar a Redshift\")\n",
    "    print(e)"
   ]
  },
  {
   "cell_type": "code",
   "execution_count": 17,
   "id": "3820d077-8261-4652-b214-89980c60651e",
   "metadata": {},
   "outputs": [],
   "source": [
    "#Crear cursor\n",
    "cursor = conn.cursor()"
   ]
  },
  {
   "cell_type": "code",
   "execution_count": 18,
   "id": "06bfbf13-1aed-4a43-9054-199e11ec9e74",
   "metadata": {},
   "outputs": [],
   "source": [
    "#Crear la tabla\n",
    "with conn.cursor() as cur:\n",
    "    cur.execute(\"\"\"\n",
    "        CREATE TABLE IF NOT EXISTS matiaspereyra_coderhouse.crypto\n",
    "        (\n",
    "\t    id VARCHAR(50) primary key  \n",
    "\t    ,rank INTEGER\n",
    "\t    ,name VARCHAR(255)  \n",
    "\t    ,supply DECIMAL\n",
    "\t    ,marketCapUsd DECIMAL\n",
    "\t    ,volumeUsd24Hr DECIMAL  \n",
    "\t    ,priceUsd DECIMAL \n",
    "\t    ,changePercent24Hr DECIMAL   \n",
    "\t    ,fecha_hoy TIMESTAMP   \n",
    "\t    )\n",
    "    \"\"\")\n",
    "    conn.commit()"
   ]
  },
  {
   "cell_type": "code",
   "execution_count": 19,
   "id": "e0141a45-11ee-444b-977a-8221421fe753",
   "metadata": {},
   "outputs": [],
   "source": [
    "# Eliminar los registros existentes\n",
    "cursor.execute(\"DELETE FROM crypto\")\n",
    "conn.commit()"
   ]
  },
  {
   "cell_type": "code",
   "execution_count": 20,
   "id": "a55958fc-7a66-4728-9c40-28e3480ddcd7",
   "metadata": {},
   "outputs": [],
   "source": [
    "# Insertamos registros\n",
    "for index, row in df.iterrows():\n",
    "    cursor.execute(\"INSERT INTO crypto (id, rank, name, supply, marketCapUsd, volumeUsd24Hr, priceUsd, changePercent24Hr, fecha_hoy) VALUES (%s, %s, %s, %s, %s, %s, %s, %s, %s)\",\n",
    "                   (row['id'], row['rank'], row['name'], row['supply'], row['marketCapUsd'], row['volumeUsd24Hr'], row['priceUsd'], row['changePercent24Hr'], row['fecha_hoy']))\n",
    "\n",
    "# Confirmar la inserción de los registros\n",
    "conn.commit()\n",
    "\n"
   ]
  },
  {
   "cell_type": "code",
   "execution_count": 21,
   "id": "770e3717-45ee-4e24-9eb9-65f1fc28d3f2",
   "metadata": {},
   "outputs": [],
   "source": [
    "# Consulta\n",
    "query = \"SELECT * FROM crypto\""
   ]
  },
  {
   "cell_type": "code",
   "execution_count": 22,
   "id": "d7d2abb2-e886-43a4-86c7-d804b28702ae",
   "metadata": {},
   "outputs": [
    {
     "name": "stderr",
     "output_type": "stream",
     "text": [
      "C:\\Users\\machi\\anaconda3\\lib\\site-packages\\pandas\\io\\sql.py:761: UserWarning: pandas only support SQLAlchemy connectable(engine/connection) ordatabase string URI or sqlite3 DBAPI2 connectionother DBAPI2 objects are not tested, please consider using SQLAlchemy\n",
      "  warnings.warn(\n"
     ]
    }
   ],
   "source": [
    "# Leer la tabla en un DataFrame\n",
    "df_result = pd.read_sql_query(query, conn)"
   ]
  },
  {
   "cell_type": "code",
   "execution_count": 23,
   "id": "daf8c2b4-5cf6-4e52-ba0d-fdda05304a91",
   "metadata": {},
   "outputs": [],
   "source": [
    "# Cerrar el cursor y la conexión\n",
    "cursor.close()\n",
    "conn.close()"
   ]
  },
  {
   "cell_type": "code",
   "execution_count": 24,
   "id": "14040a6d-2e50-49d4-add5-10fca409c4b2",
   "metadata": {},
   "outputs": [
    {
     "name": "stdout",
     "output_type": "stream",
     "text": [
      "      id  rank         name        supply  marketcapusd  volumeusd24hr  \\\n",
      "0    BTC     1      Bitcoin  1.965837e+07  1.379541e+12   5.248317e+09   \n",
      "1    ETH     2     Ethereum  1.200774e+08  4.260135e+11   4.079956e+09   \n",
      "2   USDT     3       Tether  1.036182e+11  1.037390e+11   1.597457e+10   \n",
      "3    BNB     4          BNB  1.668011e+08  1.012382e+11   5.552180e+08   \n",
      "4    SOL     5       Solana  4.438849e+08  8.735368e+10   1.258173e+09   \n",
      "..   ...   ...          ...           ...           ...            ...   \n",
      "95   RPL    96  Rocket Pool  2.021717e+07  6.050484e+08   2.942030e+05   \n",
      "96   FXS    97   Frax Share  7.856994e+07  5.959814e+08   4.471870e+05   \n",
      "97   HOT    98         Holo  1.731164e+11  5.932524e+08   3.793796e+06   \n",
      "98   LPT    99     Livepeer  3.136148e+07  5.851024e+08   1.010866e+07   \n",
      "99    SC   100      Siacoin  5.672512e+10  5.785573e+08   5.020830e+06   \n",
      "\n",
      "    priceusd  changepercent24hr                  fecha_hoy  \n",
      "0    70176.0                0.0 2024-03-30 15:18:24.783604  \n",
      "1     3548.0                0.0 2024-03-30 15:18:24.783604  \n",
      "2        1.0                0.0 2024-03-30 15:18:24.783604  \n",
      "3      607.0               -1.0 2024-03-30 15:18:24.783604  \n",
      "4      197.0                5.0 2024-03-30 15:18:24.783604  \n",
      "..       ...                ...                        ...  \n",
      "95      30.0               -4.0 2024-03-30 15:18:24.783604  \n",
      "96       8.0               -3.0 2024-03-30 15:18:24.783604  \n",
      "97       0.0                0.0 2024-03-30 15:18:24.783604  \n",
      "98      19.0               -2.0 2024-03-30 15:18:24.783604  \n",
      "99       0.0               -1.0 2024-03-30 15:18:24.783604  \n",
      "\n",
      "[100 rows x 9 columns]\n"
     ]
    }
   ],
   "source": [
    "# Mostrar el DataFrame resultante\n",
    "print(df_result)"
   ]
  }
 ],
 "metadata": {
  "kernelspec": {
   "display_name": "Python 3 (ipykernel)",
   "language": "python",
   "name": "python3"
  },
  "language_info": {
   "codemirror_mode": {
    "name": "ipython",
    "version": 3
   },
   "file_extension": ".py",
   "mimetype": "text/x-python",
   "name": "python",
   "nbconvert_exporter": "python",
   "pygments_lexer": "ipython3",
   "version": "3.9.12"
  }
 },
 "nbformat": 4,
 "nbformat_minor": 5
}
